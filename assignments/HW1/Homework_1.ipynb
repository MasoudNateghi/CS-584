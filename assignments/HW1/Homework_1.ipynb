{
 "cells": [
  {
   "cell_type": "markdown",
   "metadata": {
    "id": "XuXWJLEm2UWS"
   },
   "source": [
    "# **CS485 & CS584 - Homework 1**\n",
    "\n",
    "In this Colab, we will explore and learn two packages: [NetworkX](https://networkx.org/documentation/stable/) and [PyTorch Geometric](https://pytorch-geometric.readthedocs.io/en/latest/), both of which are essential for conducting research on graph data.\n",
    "\n",
    "We will begin by analyzing various graph statistics and properties using [NetworkX](https://networkx.org/documentation/stable/).\n",
    "\n",
    "Then, we will introduce [PyTorch Geometric](https://pytorch-geometric.readthedocs.io/en/latest/) to gain an initial understanding of PyG graph data.\n",
    "\n",
    "**Please make a copy before you proceed.**"
   ]
  },
  {
   "cell_type": "markdown",
   "metadata": {
    "id": "8gzsP50bF6Gb"
   },
   "source": [
    "\n",
    "# NetworkX Tutorial\n",
    "\n",
    "NetworkX is one of the most frequently used Python packages for creating, analyzing, and visualizing complex networks and graph structures.\n"
   ]
  },
  {
   "cell_type": "markdown",
   "metadata": {
    "id": "Nwwq0nSdmsOL"
   },
   "source": [
    "## Setup"
   ]
  },
  {
   "cell_type": "code",
   "metadata": {
    "id": "7p2pHdwnsu7-",
    "colab": {
     "base_uri": "https://localhost:8080/"
    },
    "outputId": "93970d42-0729-4511-9537-c4c4f1cba1f2",
    "ExecuteTime": {
     "end_time": "2025-01-24T00:46:02.114754Z",
     "start_time": "2025-01-24T00:46:00.864996Z"
    }
   },
   "source": [
    "# Upgrade packages\n",
    "!pip install --upgrade networkx\n",
    "!pip install scipy==1.13.0"
   ],
   "outputs": [
    {
     "name": "stdout",
     "output_type": "stream",
     "text": [
      "Requirement already satisfied: networkx in /Users/masoud/Documents/Education/Courses/CS-584/CS584/lib/python3.10/site-packages (3.4.2)\r\n",
      "\r\n",
      "\u001B[1m[\u001B[0m\u001B[34;49mnotice\u001B[0m\u001B[1;39;49m]\u001B[0m\u001B[39;49m A new release of pip is available: \u001B[0m\u001B[31;49m24.2\u001B[0m\u001B[39;49m -> \u001B[0m\u001B[32;49m24.3.1\u001B[0m\r\n",
      "\u001B[1m[\u001B[0m\u001B[34;49mnotice\u001B[0m\u001B[1;39;49m]\u001B[0m\u001B[39;49m To update, run: \u001B[0m\u001B[32;49mpip install --upgrade pip\u001B[0m\r\n",
      "Requirement already satisfied: scipy==1.13.0 in /Users/masoud/Documents/Education/Courses/CS-584/CS584/lib/python3.10/site-packages (1.13.0)\r\n",
      "Requirement already satisfied: numpy<2.3,>=1.22.4 in /Users/masoud/Documents/Education/Courses/CS-584/CS584/lib/python3.10/site-packages (from scipy==1.13.0) (1.26.4)\r\n",
      "\r\n",
      "\u001B[1m[\u001B[0m\u001B[34;49mnotice\u001B[0m\u001B[1;39;49m]\u001B[0m\u001B[39;49m A new release of pip is available: \u001B[0m\u001B[31;49m24.2\u001B[0m\u001B[39;49m -> \u001B[0m\u001B[32;49m24.3.1\u001B[0m\r\n",
      "\u001B[1m[\u001B[0m\u001B[34;49mnotice\u001B[0m\u001B[1;39;49m]\u001B[0m\u001B[39;49m To update, run: \u001B[0m\u001B[32;49mpip install --upgrade pip\u001B[0m\r\n"
     ]
    }
   ],
   "execution_count": 22
  },
  {
   "cell_type": "code",
   "metadata": {
    "id": "QeqN7MHvH1OA",
    "ExecuteTime": {
     "end_time": "2025-01-24T00:46:03.019049Z",
     "start_time": "2025-01-24T00:46:02.915413Z"
    }
   },
   "source": [
    "# Import the NetworkX package\n",
    "import networkx as nx"
   ],
   "outputs": [],
   "execution_count": 23
  },
  {
   "cell_type": "markdown",
   "metadata": {
    "id": "MCIeGAfLfAMK"
   },
   "source": [
    "## Graph\n",
    "\n",
    "NetworkX offers various classes for storing different types of graphs, including directed and undirected graphs. It also supports classes for creating multigraphs (both directed and undirected).\n",
    "\n",
    "For more details, refer to the [NetworkX graph types](https://networkx.org/documentation/stable/reference/classes/index.html). In this tutorial, we will focus on the most commonly used types: directed and undirected graphs."
   ]
  },
  {
   "cell_type": "code",
   "metadata": {
    "colab": {
     "base_uri": "https://localhost:8080/"
    },
    "id": "qSI_n6P-e0PW",
    "outputId": "e2a3ef58-aa31-4333-b928-610a66f04c4b",
    "ExecuteTime": {
     "end_time": "2025-01-24T00:46:05.401003Z",
     "start_time": "2025-01-24T00:46:05.398277Z"
    }
   },
   "source": [
    "# Create an undirected graph G\n",
    "G = nx.Graph()\n",
    "print(G.is_directed())\n",
    "\n",
    "# Create a directed graph H\n",
    "H = nx.DiGraph()\n",
    "print(H.is_directed())\n",
    "\n",
    "# Add graph level attribute\n",
    "G.graph[\"Name\"] = \"Bar\"\n",
    "print(G.graph)"
   ],
   "outputs": [
    {
     "name": "stdout",
     "output_type": "stream",
     "text": [
      "False\n",
      "True\n",
      "{'Name': 'Bar'}\n"
     ]
    }
   ],
   "execution_count": 24
  },
  {
   "cell_type": "markdown",
   "metadata": {
    "id": "x0pLs0-Ka9j8"
   },
   "source": [
    "## Node\n",
    "\n",
    "Nodes (with attributes) can be easily added to NetworkX graphs."
   ]
  },
  {
   "cell_type": "code",
   "metadata": {
    "colab": {
     "base_uri": "https://localhost:8080/"
    },
    "id": "jQ8ApAL5H1GB",
    "outputId": "0ad49550-3d33-4026-9537-06e564f616a7",
    "ExecuteTime": {
     "end_time": "2025-01-24T00:46:06.939955Z",
     "start_time": "2025-01-24T00:46:06.936994Z"
    }
   },
   "source": [
    "# Add two nodes with node level attributes one by one\n",
    "G.add_node(0, feature=\"Node_0_features\", label=1)\n",
    "G.add_node(1, feature=[1, 20, 5], label=2)\n",
    "\n",
    "# Get attributes of the node 0 and 1\n",
    "node_0_attr = G.nodes[0]\n",
    "node_1_attr = G.nodes[1]\n",
    "print(\"Node 0 has the attributes {}\".format(node_0_attr))\n",
    "print(\"Node 1 has the attributes {}\".format(node_1_attr))"
   ],
   "outputs": [
    {
     "name": "stdout",
     "output_type": "stream",
     "text": [
      "Node 0 has the attributes {'feature': 'Node_0_features', 'label': 1}\n",
      "Node 1 has the attributes {'feature': [1, 20, 5], 'label': 2}\n"
     ]
    }
   ],
   "execution_count": 25
  },
  {
   "cell_type": "code",
   "metadata": {
    "colab": {
     "base_uri": "https://localhost:8080/"
    },
    "id": "btOdMYqJaKia",
    "outputId": "79e8d7df-6a88-43f9-ba07-d6da8787f9e2",
    "ExecuteTime": {
     "end_time": "2025-01-24T00:46:14.036989Z",
     "start_time": "2025-01-24T00:46:14.034161Z"
    }
   },
   "source": [
    "# Add multiple nodes with attributes in a time\n",
    "G.add_nodes_from([\n",
    "  (2, {\"feature\": 2, \"label\": 1}),\n",
    "  (3, {\"feature\": 3, \"label\": 2})\n",
    "]) #(node, attrdict)\n",
    "\n",
    "# Loop through all the nodes\n",
    "# Set data=True will return node attributes\n",
    "for node in G.nodes(data=True):\n",
    "  print(node)\n",
    "\n",
    "# Get number of nodes\n",
    "num_nodes = G.number_of_nodes()\n",
    "print(\"G has {} nodes\".format(num_nodes))"
   ],
   "outputs": [
    {
     "name": "stdout",
     "output_type": "stream",
     "text": [
      "(0, {'feature': 'Node_0_features', 'label': 1})\n",
      "(1, {'feature': [1, 20, 5], 'label': 2})\n",
      "(2, {'feature': 2, 'label': 1})\n",
      "(3, {'feature': 3, 'label': 2})\n",
      "G has 4 nodes\n"
     ]
    }
   ],
   "execution_count": 26
  },
  {
   "cell_type": "markdown",
   "metadata": {
    "id": "0AdoaZPgbRis"
   },
   "source": [
    "## Edge\n",
    "\n",
    "Similar to nodes, edges (with attributes) can also be easily added to NetworkX graphs."
   ]
  },
  {
   "cell_type": "code",
   "metadata": {
    "colab": {
     "base_uri": "https://localhost:8080/"
    },
    "id": "0szH5F6EH079",
    "outputId": "2543c849-7093-4d57-de30-289463e0d403",
    "ExecuteTime": {
     "end_time": "2025-01-24T00:46:18.691607Z",
     "start_time": "2025-01-24T00:46:18.688129Z"
    }
   },
   "source": [
    "# Add two edges with edge weight 0.5 and 0.6 one by one\n",
    "G.add_edge(0, 1, weight=0.5)\n",
    "G.add_edge(0, 2, weight=0.6)\n",
    "\n",
    "# Get attributes of the edges\n",
    "edge_0_1_attr = G.edges[(0, 1)]\n",
    "edge_0_2_attr = G.edges[(0, 2)]\n",
    "print(\"Edge (0, 1) has the attributes {}\".format(edge_0_1_attr))\n",
    "print(\"Edge (0, 2) has the attributes {}\".format(edge_0_2_attr))"
   ],
   "outputs": [
    {
     "name": "stdout",
     "output_type": "stream",
     "text": [
      "Edge (0, 1) has the attributes {'weight': 0.5}\n",
      "Edge (0, 2) has the attributes {'weight': 0.6}\n"
     ]
    }
   ],
   "execution_count": 27
  },
  {
   "cell_type": "code",
   "metadata": {
    "colab": {
     "base_uri": "https://localhost:8080/"
    },
    "id": "QRTmi4EUaf_I",
    "outputId": "d87403d3-5f9d-4c55-a9fe-17ef9dd2e626",
    "ExecuteTime": {
     "end_time": "2025-01-24T00:46:20.072681Z",
     "start_time": "2025-01-24T00:46:20.069040Z"
    }
   },
   "source": [
    "# Add multiple edges with edge weights in a time\n",
    "G.add_edges_from([\n",
    "  (1, 2, {\"weight\": 0.3}),\n",
    "  (2, 3, {\"weight\": 0.1})\n",
    "])\n",
    "\n",
    "# Loop through all the edges\n",
    "# Here there is no data=True, so only the edge will be returned\n",
    "for edge in G.edges():\n",
    "  print(edge)\n",
    "\n",
    "# Get number of edges\n",
    "num_edges = G.number_of_edges()\n",
    "print(\"G has {} edges\".format(num_edges))"
   ],
   "outputs": [
    {
     "name": "stdout",
     "output_type": "stream",
     "text": [
      "(0, 1)\n",
      "(0, 2)\n",
      "(1, 2)\n",
      "(2, 3)\n",
      "G has 4 edges\n"
     ]
    }
   ],
   "execution_count": 28
  },
  {
   "cell_type": "markdown",
   "metadata": {
    "id": "9u1Utjn4bc7k"
   },
   "source": [
    "## Visualization\n",
    "NetworkX also provides tooling to conventiently visualize graphs."
   ]
  },
  {
   "cell_type": "code",
   "metadata": {
    "colab": {
     "base_uri": "https://localhost:8080/",
     "height": 516
    },
    "id": "lykPzFOEahuP",
    "outputId": "0d5f5256-9f5a-4d93-d6ef-9fc6ba354497",
    "ExecuteTime": {
     "end_time": "2025-01-24T00:46:26.061437Z",
     "start_time": "2025-01-24T00:46:25.657177Z"
    }
   },
   "source": [
    "# Draw the graph\n",
    "nx.draw(G, with_labels = True)"
   ],
   "outputs": [
    {
     "data": {
      "text/plain": [
       "<Figure size 640x480 with 1 Axes>"
      ],
      "image/png": "[encoded data removed]"
     },
     "metadata": {},
     "output_type": "display_data"
    }
   ],
   "execution_count": 29
  },
  {
   "cell_type": "markdown",
   "metadata": {
    "id": "_Q6YTP2FDbOS"
   },
   "source": [
    "## Node Degree and Neighbor"
   ]
  },
  {
   "cell_type": "code",
   "metadata": {
    "colab": {
     "base_uri": "https://localhost:8080/"
    },
    "id": "GFA3B6Z_DE3q",
    "outputId": "1ef61abd-01c4-49ab-c0da-36d08125c056",
    "ExecuteTime": {
     "end_time": "2025-01-24T00:46:32.038585Z",
     "start_time": "2025-01-24T00:46:32.035122Z"
    }
   },
   "source": [
    "node_id = 2\n",
    "\n",
    "# Degree of node 2\n",
    "print(\"Node {} has degree {}\".format(node_id, G.degree[node_id]))\n",
    "\n",
    "# Get neighbor of node 2\n",
    "for neighbor in G.neighbors(node_id):\n",
    "  print(\"Node {} has neighbor {}\".format(node_id, neighbor))"
   ],
   "outputs": [
    {
     "name": "stdout",
     "output_type": "stream",
     "text": [
      "Node 2 has degree 3\n",
      "Node 2 has neighbor 0\n",
      "Node 2 has neighbor 1\n",
      "Node 2 has neighbor 3\n"
     ]
    }
   ],
   "execution_count": 30
  },
  {
   "cell_type": "markdown",
   "metadata": {
    "id": "RrIFCJnlvGkg"
   },
   "source": [
    "## Documentation"
   ]
  },
  {
   "cell_type": "markdown",
   "metadata": {
    "id": "_7PBwhIKu3et"
   },
   "source": [
    "You can explore more NetworkX functions through its [documentation](https://networkx.org/documentation/stable/)."
   ]
  },
  {
   "cell_type": "markdown",
   "source": [
    "## Question 1: Use the undirected graph class to construct a social network. (5 points)\n",
    "\n",
    "Connectivity in a graph refers to the property that determines whether there is a path between any pair of nodes. A graph is considered connected if every node is reachable from every other node; otherwise, it is disconnected, consisting of two or more separate subgraphs."
   ],
   "metadata": {
    "id": "Z6ouQBWjqAZr"
   }
  },
  {
   "cell_type": "code",
   "source": [
    "import networkx as nx\n",
    "\n",
    "\n",
    "def construct_social_network(people, relationships):\n",
    "  # TODO: Implement the function that constructs a connected undirected graph\n",
    "  # when a list of people and relatioships between them are given.\n",
    "  # Let us build up our social network!\n",
    "\n",
    "  social_network = nx.Graph()\n",
    "  for person in people:\n",
    "    social_network.add_node(person)\n",
    "  for relationship in relationships:\n",
    "    social_network.add_edge(relationship[0], relationship[1])\n",
    "\n",
    "  return social_network\n",
    "\n",
    "def is_friend(social_network, people_pair):\n",
    "  # TODO: Implement the function that returns True or False\n",
    "  # To indicates if two people are friend or not.\n",
    "  # Hint: We may need to determine whether we can find an edge between them on the graph?\n",
    "\n",
    "  to_be_friend = social_network.has_edge(people_pair[0], people_pair[1])\n",
    "\n",
    "  return to_be_friend\n",
    "\n",
    "\n",
    "# Let us Construct a social network that contains 10 people:\n",
    "people = [\"Bob\", \"Alice\", \"Charlie\", \"Diana\", \"Eve\", \"Frank\", \"Grace\", \"Hank\", \"Ivy\", \"Jack\"]\n",
    "relationships = [(\"Bob\", \"Alice\"), (\"Alice\", \"Charlie\"), (\"Charlie\", \"Diana\"),\n",
    "                 (\"Diana\", \"Eve\"), (\"Eve\", \"Frank\"), (\"Frank\", \"Grace\"),\n",
    "                 (\"Grace\", \"Hank\"), (\"Hank\", \"Ivy\"), (\"Hank\", \"Diana\"), (\"Ivy\", \"Jack\")]\n",
    "social_network = construct_social_network(people, relationships)\n",
    "nx.draw(social_network, with_labels = True)\n",
    "print(f\"Are Bob and Eve are friend: {is_friend(social_network, ('Bob', 'Eve'))}\")\n",
    "print(f\"Are Diana and Eve are friend: {is_friend(social_network, ('Diana', 'Eve'))}\")\n"
   ],
   "metadata": {
    "id": "azRe20SnqMry",
    "ExecuteTime": {
     "end_time": "2025-01-24T00:46:35.047854Z",
     "start_time": "2025-01-24T00:46:35.009899Z"
    }
   },
   "outputs": [
    {
     "name": "stdout",
     "output_type": "stream",
     "text": [
      "Are Bob and Eve are friend: False\n",
      "Are Diana and Eve are friend: True\n"
     ]
    },
    {
     "data": {
      "text/plain": [
       "<Figure size 640x480 with 1 Axes>"
      ],
      "image/png": "[encoded data removed]"
     },
     "metadata": {},
     "output_type": "display_data"
    }
   ],
   "execution_count": 31
  },
  {
   "cell_type": "markdown",
   "metadata": {
    "id": "MDcCjrW3JWzG"
   },
   "source": [
    "# PyTorch Geometric Tutorial\n",
    "\n",
    "**[PyTorch Geometric (PyG) library](https://github.com/rusty1s/pytorch_geometric)** is an extension library for PyTorch designed to facilitate the development of Graph Deep Learning models. It provides essential primitives, including various graph neural network layers and access to a large collection of benchmark datasets.\n",
    "\n",
    "While NetworkX is a powerful tool for analyzing graph data, it is not specifically designed for deep learning on graphs. To bridge this gap, PyG extends the popular deep learning framework [PyTorch](https://pytorch.org/) with specialized utilities and methods for implementing Graph Neural Networks (GNNs) efficiently.\n",
    "\n",
    "**[PyG](https://github.com/rusty1s/pytorch_geometric)** enables deep learning on graphs, a rapidly growing research area in the deep learning community. GNNs generalize classical deep learning concepts to work with irregularly structured data, such as graphs, allowing neural networks to reason about objects and their relationships effectively.\n",
    "\n",
    "In this tutorial, we will first introduce the Graph Data as defined by PyG. The pipline of graph deep learning will be covered in detail in our upcoming lectures using PyG.\n"
   ]
  },
  {
   "cell_type": "code",
   "metadata": {
    "colab": {
     "base_uri": "https://localhost:8080/"
    },
    "id": "WU7NCZtQ6msa",
    "outputId": "5a30a728-82e5-4b5e-8a69-156b1cb31c34",
    "ExecuteTime": {
     "end_time": "2025-01-24T00:46:38.319950Z",
     "start_time": "2025-01-24T00:46:38.317266Z"
    }
   },
   "source": [
    "import torch\n",
    "print(\"PyTorch has version {}\".format(torch.__version__))"
   ],
   "outputs": [
    {
     "name": "stdout",
     "output_type": "stream",
     "text": [
      "PyTorch has version 2.1.2\n"
     ]
    }
   ],
   "execution_count": 32
  },
  {
   "cell_type": "markdown",
   "metadata": {
    "id": "n7gMjMCT677n"
   },
   "source": [
    "## Installing dependencies\n",
    "\n",
    "Execute the cell below -- in case of issues, more information can be found on [PyG's installation page](https://pytorch-geometric.readthedocs.io/en/latest/notes/installation.html)."
   ]
  },
  {
   "metadata": {
    "ExecuteTime": {
     "end_time": "2025-01-24T00:46:42.289554Z",
     "start_time": "2025-01-24T00:46:42.165170Z"
    }
   },
   "cell_type": "code",
   "source": "!pip install torch-scatter -f https://data.pyg.org/whl/torch-<2.1.2>.html\n",
   "outputs": [
    {
     "name": "stdout",
     "output_type": "stream",
     "text": [
      "zsh:1: no such file or directory: 2.1.2\r\n"
     ]
    }
   ],
   "execution_count": 33
  },
  {
   "cell_type": "code",
   "metadata": {
    "id": "tRNEKu-R66Cw"
   },
   "source": [
    "# Install torch geometric\n",
    "!pip install -q torch-scatter -f https://data.pyg.org/whl/torch-2.4.0+cu121.html\n",
    "!pip install -q torch-sparse -f https://data.pyg.org/whl/torch-2.4.0+cu121.html\n",
    "!pip install -q torch-geometric"
   ],
   "outputs": [],
   "execution_count": null
  },
  {
   "cell_type": "markdown",
   "metadata": {
    "id": "g3uPffzbyqn9"
   },
   "source": [
    "## Dataset\n",
    "\n",
    "PyG provides an easy access to the dataset via the [`torch_geometric.datasets`](https://pytorch-geometric.readthedocs.io/en/latest/modules/datasets.html#torch_geometric.datasets) subpackage. It integrates many widely used graph datasets for research, including Cora, PubMed, CiteSeer, and more."
   ]
  },
  {
   "cell_type": "code",
   "metadata": {
    "colab": {
     "base_uri": "https://localhost:8080/"
    },
    "id": "YrpL9CtS7nx2",
    "outputId": "3cd80c8e-a48c-4ff4-d93e-7a9740c90472",
    "ExecuteTime": {
     "end_time": "2025-01-24T00:46:47.258865Z",
     "start_time": "2025-01-24T00:46:47.253802Z"
    }
   },
   "source": [
    "from torch_geometric.datasets import KarateClub\n",
    "\n",
    "dataset = KarateClub()\n",
    "print(f'Dataset: {dataset}:')\n",
    "print('======================')\n",
    "print(f'Number of graphs: {len(dataset)}')\n",
    "print(f'Number of features: {dataset.num_features}')\n",
    "print(f'Number of classes: {dataset.num_classes}')"
   ],
   "outputs": [
    {
     "name": "stdout",
     "output_type": "stream",
     "text": [
      "Dataset: KarateClub():\n",
      "======================\n",
      "Number of graphs: 1\n",
      "Number of features: 34\n",
      "Number of classes: 4\n"
     ]
    }
   ],
   "execution_count": 34
  },
  {
   "cell_type": "markdown",
   "metadata": {
    "id": "lCeRGa2q7sdl"
   },
   "source": [
    "After initializing the [`KarateClub`](https://pytorch-geometric.readthedocs.io/en/latest/modules/datasets.html#torch_geometric.datasets.KarateClub) dataset, we first can inspect some of its properties.\n",
    "For example, we can see that this dataset holds exactly **one graph**, and that each node in this dataset is assigned a **34-dimensional feature vector** (which uniquely describes the members of the karate club).\n",
    "Furthermore, the graph holds exactly **4 classes**, which represent the community each node belongs to.\n",
    "\n",
    "Let's now look at the underlying graph in more detail:"
   ]
  },
  {
   "cell_type": "code",
   "metadata": {
    "colab": {
     "base_uri": "https://localhost:8080/"
    },
    "id": "sTLapYhP7uCn",
    "outputId": "1c333b3f-cee6-4066-dc49-c24da5a378d9",
    "ExecuteTime": {
     "end_time": "2025-01-24T00:46:49.164691Z",
     "start_time": "2025-01-24T00:46:49.159196Z"
    }
   },
   "source": [
    "data = dataset[0]  # Get the first graph object.\n",
    "\n",
    "print(data)\n",
    "print('==============================================================')\n",
    "\n",
    "# Gather some statistics about the graph.\n",
    "print(f'Number of nodes: {data.num_nodes}')\n",
    "print(f'Number of edges: {data.num_edges}')\n",
    "print(f'Average node degree: {(data.num_edges) / data.num_nodes:.2f}')\n",
    "print(f'Number of training nodes: {data.train_mask.sum()}')\n",
    "print(f'Training node label rate: {int(data.train_mask.sum()) / data.num_nodes:.2f}')\n",
    "print(f'Contains isolated nodes: {data.has_isolated_nodes()}')\n",
    "print(f'Contains self-loops: {data.has_self_loops()}')\n",
    "print(f'Is undirected: {data.is_undirected()}')"
   ],
   "outputs": [
    {
     "name": "stdout",
     "output_type": "stream",
     "text": [
      "Data(x=[34, 34], edge_index=[2, 156], y=[34], train_mask=[34])\n",
      "==============================================================\n",
      "Number of nodes: 34\n",
      "Number of edges: 156\n",
      "Average node degree: 4.59\n",
      "Number of training nodes: 4\n",
      "Training node label rate: 0.12\n",
      "Contains isolated nodes: False\n",
      "Contains self-loops: False\n",
      "Is undirected: True\n"
     ]
    }
   ],
   "execution_count": 35
  },
  {
   "cell_type": "markdown",
   "metadata": {
    "id": "lIzbIoc-y8J4"
   },
   "source": [
    "## Data"
   ]
  },
  {
   "cell_type": "markdown",
   "metadata": {
    "id": "I5zhmKIH72Rf"
   },
   "source": [
    "\n",
    "Each graph in PyTorch Geometric is represented by a single [`Data`](https://pytorch-geometric.readthedocs.io/en/latest/modules/data.html#torch_geometric.data.Data) object, which holds all the information to describe its graph representation.\n",
    "We can print the data object anytime via `print(data)` to receive a short summary about its attributes and their shapes:"
   ]
  },
  {
   "cell_type": "code",
   "metadata": {
    "colab": {
     "base_uri": "https://localhost:8080/"
    },
    "id": "2WBDduWreQNQ",
    "outputId": "4b1800a1-dc5e-4d58-9c16-37737a9e0b48",
    "ExecuteTime": {
     "end_time": "2025-01-24T00:46:52.879545Z",
     "start_time": "2025-01-24T00:46:52.876249Z"
    }
   },
   "source": [
    "print(data)"
   ],
   "outputs": [
    {
     "name": "stdout",
     "output_type": "stream",
     "text": [
      "Data(x=[34, 34], edge_index=[2, 156], y=[34], train_mask=[34])\n"
     ]
    }
   ],
   "execution_count": 36
  },
  {
   "cell_type": "markdown",
   "source": [
    "We can see that this `data` object holds 4 attributes:\n",
    "(1) The `edge_index` property holds the information about the **graph connectivity**, *i.e.*, a tuple of source and destination node indices for each edge.\n",
    "PyG further refers to (2) **node features** as `x` (each of the 34 nodes is assigned a 34-dim feature vector), and to (3) **node labels** as `y` (each node is assigned to exactly one class).\n",
    "(4) There also exists an additional attribute called `train_mask`, which describes for which nodes we already know their community assigments.\n",
    "In total, we are only aware of the ground-truth labels of 4 nodes (one for each community), and the task is to infer the community assignment for the remaining nodes."
   ],
   "metadata": {
    "id": "buDLGTboTZAw"
   }
  },
  {
   "cell_type": "markdown",
   "metadata": {
    "id": "nLLsT0ROzffp"
   },
   "source": [
    "## Edge Index"
   ]
  },
  {
   "cell_type": "markdown",
   "metadata": {
    "id": "svWvpFyZeXfm"
   },
   "source": [
    "Next we'll print the `edge_index` of our graph:"
   ]
  },
  {
   "cell_type": "code",
   "metadata": {
    "colab": {
     "base_uri": "https://localhost:8080/",
     "height": 300
    },
    "id": "iFA6Xi4O79r0",
    "outputId": "c070254c-18ee-491a-f3df-6e573e4a634a",
    "ExecuteTime": {
     "end_time": "2025-01-24T00:46:55.921719Z",
     "start_time": "2025-01-24T00:46:55.915022Z"
    }
   },
   "source": [
    "from IPython.display import Javascript  # Restrict height of output cell.\n",
    "display(Javascript('''google.colab.output.setIframeHeight(0, true, {maxHeight: 300})'''))\n",
    "\n",
    "edge_index = data.edge_index\n",
    "print(edge_index.t())"
   ],
   "outputs": [
    {
     "data": {
      "text/plain": [
       "<IPython.core.display.Javascript object>"
      ],
      "application/javascript": "google.colab.output.setIframeHeight(0, true, {maxHeight: 300})"
     },
     "metadata": {},
     "output_type": "display_data"
    },
    {
     "name": "stdout",
     "output_type": "stream",
     "text": [
      "tensor([[ 0,  1],\n",
      "        [ 0,  2],\n",
      "        [ 0,  3],\n",
      "        [ 0,  4],\n",
      "        [ 0,  5],\n",
      "        [ 0,  6],\n",
      "        [ 0,  7],\n",
      "        [ 0,  8],\n",
      "        [ 0, 10],\n",
      "        [ 0, 11],\n",
      "        [ 0, 12],\n",
      "        [ 0, 13],\n",
      "        [ 0, 17],\n",
      "        [ 0, 19],\n",
      "        [ 0, 21],\n",
      "        [ 0, 31],\n",
      "        [ 1,  0],\n",
      "        [ 1,  2],\n",
      "        [ 1,  3],\n",
      "        [ 1,  7],\n",
      "        [ 1, 13],\n",
      "        [ 1, 17],\n",
      "        [ 1, 19],\n",
      "        [ 1, 21],\n",
      "        [ 1, 30],\n",
      "        [ 2,  0],\n",
      "        [ 2,  1],\n",
      "        [ 2,  3],\n",
      "        [ 2,  7],\n",
      "        [ 2,  8],\n",
      "        [ 2,  9],\n",
      "        [ 2, 13],\n",
      "        [ 2, 27],\n",
      "        [ 2, 28],\n",
      "        [ 2, 32],\n",
      "        [ 3,  0],\n",
      "        [ 3,  1],\n",
      "        [ 3,  2],\n",
      "        [ 3,  7],\n",
      "        [ 3, 12],\n",
      "        [ 3, 13],\n",
      "        [ 4,  0],\n",
      "        [ 4,  6],\n",
      "        [ 4, 10],\n",
      "        [ 5,  0],\n",
      "        [ 5,  6],\n",
      "        [ 5, 10],\n",
      "        [ 5, 16],\n",
      "        [ 6,  0],\n",
      "        [ 6,  4],\n",
      "        [ 6,  5],\n",
      "        [ 6, 16],\n",
      "        [ 7,  0],\n",
      "        [ 7,  1],\n",
      "        [ 7,  2],\n",
      "        [ 7,  3],\n",
      "        [ 8,  0],\n",
      "        [ 8,  2],\n",
      "        [ 8, 30],\n",
      "        [ 8, 32],\n",
      "        [ 8, 33],\n",
      "        [ 9,  2],\n",
      "        [ 9, 33],\n",
      "        [10,  0],\n",
      "        [10,  4],\n",
      "        [10,  5],\n",
      "        [11,  0],\n",
      "        [12,  0],\n",
      "        [12,  3],\n",
      "        [13,  0],\n",
      "        [13,  1],\n",
      "        [13,  2],\n",
      "        [13,  3],\n",
      "        [13, 33],\n",
      "        [14, 32],\n",
      "        [14, 33],\n",
      "        [15, 32],\n",
      "        [15, 33],\n",
      "        [16,  5],\n",
      "        [16,  6],\n",
      "        [17,  0],\n",
      "        [17,  1],\n",
      "        [18, 32],\n",
      "        [18, 33],\n",
      "        [19,  0],\n",
      "        [19,  1],\n",
      "        [19, 33],\n",
      "        [20, 32],\n",
      "        [20, 33],\n",
      "        [21,  0],\n",
      "        [21,  1],\n",
      "        [22, 32],\n",
      "        [22, 33],\n",
      "        [23, 25],\n",
      "        [23, 27],\n",
      "        [23, 29],\n",
      "        [23, 32],\n",
      "        [23, 33],\n",
      "        [24, 25],\n",
      "        [24, 27],\n",
      "        [24, 31],\n",
      "        [25, 23],\n",
      "        [25, 24],\n",
      "        [25, 31],\n",
      "        [26, 29],\n",
      "        [26, 33],\n",
      "        [27,  2],\n",
      "        [27, 23],\n",
      "        [27, 24],\n",
      "        [27, 33],\n",
      "        [28,  2],\n",
      "        [28, 31],\n",
      "        [28, 33],\n",
      "        [29, 23],\n",
      "        [29, 26],\n",
      "        [29, 32],\n",
      "        [29, 33],\n",
      "        [30,  1],\n",
      "        [30,  8],\n",
      "        [30, 32],\n",
      "        [30, 33],\n",
      "        [31,  0],\n",
      "        [31, 24],\n",
      "        [31, 25],\n",
      "        [31, 28],\n",
      "        [31, 32],\n",
      "        [31, 33],\n",
      "        [32,  2],\n",
      "        [32,  8],\n",
      "        [32, 14],\n",
      "        [32, 15],\n",
      "        [32, 18],\n",
      "        [32, 20],\n",
      "        [32, 22],\n",
      "        [32, 23],\n",
      "        [32, 29],\n",
      "        [32, 30],\n",
      "        [32, 31],\n",
      "        [32, 33],\n",
      "        [33,  8],\n",
      "        [33,  9],\n",
      "        [33, 13],\n",
      "        [33, 14],\n",
      "        [33, 15],\n",
      "        [33, 18],\n",
      "        [33, 19],\n",
      "        [33, 20],\n",
      "        [33, 22],\n",
      "        [33, 23],\n",
      "        [33, 26],\n",
      "        [33, 27],\n",
      "        [33, 28],\n",
      "        [33, 29],\n",
      "        [33, 30],\n",
      "        [33, 31],\n",
      "        [33, 32]])\n"
     ]
    }
   ],
   "execution_count": 37
  },
  {
   "cell_type": "markdown",
   "metadata": {
    "id": "wQJyi9OB8dh_"
   },
   "source": [
    "By printing `edge_index`, we can further understand how PyG represents graph connectivity internally.\n",
    "We can see that for each edge, `edge_index` holds a tuple of two node indices, where the first value describes the node index of the source node and the second value describes the node index of the destination node of an edge.\n",
    "\n",
    "This representation is known as the **COO format (coordinate format)** commonly used for representing sparse matrices.\n",
    "Instead of holding the adjacency information in a dense representation $\\mathbf{A} \\in \\{ 0, 1 \\}^{|\\mathbb{V}| \\times |\\mathbb{V}|}$, PyG represents graphs sparsely, which refers to only holding the coordinates/values for which entries in $\\mathbf{A}$ are non-zero.\n",
    "\n",
    "To create a graph object using PyG, we use the `torch_geometric.data.Data` class, which requires at least an `edge_index`. For the simplest Data object, it must include at least an `edge_index` , which defines the connections between nodes."
   ]
  },
  {
   "cell_type": "code",
   "source": [
    "from torch_geometric.data import Data\n",
    "# For instance, we can generate a PyG graph in a random manner:\n",
    "# Number of nodes and edges\n",
    "num_nodes = 10\n",
    "num_edges = 20\n",
    "\n",
    "# Generate random edge connections\n",
    "edge_index = torch.randint(0, num_nodes, (2, num_edges))\n",
    "\n",
    "# Optionally, add random node features (e.g., 3 features per node)\n",
    "x = torch.rand((num_nodes, 3))\n",
    "\n",
    "# Create a PyG Data object\n",
    "random_graph = Data(x=x, edge_index=edge_index)\n",
    "\n",
    "print(\"Random PyG Graph:\")\n",
    "print(random_graph)"
   ],
   "metadata": {
    "colab": {
     "base_uri": "https://localhost:8080/"
    },
    "id": "UHIKmZVhUt96",
    "outputId": "fc43c338-42cc-48a1-ceb7-5ea709f8ac8a",
    "ExecuteTime": {
     "end_time": "2025-01-24T00:46:59.465847Z",
     "start_time": "2025-01-24T00:46:59.461998Z"
    }
   },
   "outputs": [
    {
     "name": "stdout",
     "output_type": "stream",
     "text": [
      "Random PyG Graph:\n",
      "Data(x=[10, 3], edge_index=[2, 20])\n"
     ]
    }
   ],
   "execution_count": 38
  },
  {
   "cell_type": "markdown",
   "source": [
    "## Question 2: Use the PyG Data class to construct the connected undirected social network with One-Hot Embedding. (5 points)\n",
    "\n",
    "One-hot embedding, also known as one-hot encoding, is a representation technique used to convert categorical data into a numerical format that machine learning models can process. In this method, each unique category is represented as a binary vector, where:\n",
    "* The length of the vector equals the total number of categories.\n",
    "* The vector consists of all zeros except for a single position, which is marked as 1 to indicate the category's index.\n",
    "\n",
    "For example, consider three categories: \"Apple,\" \"Banana,\" and \"Cherry.\" Their one-hot representations would be:\n",
    "* \"Apple\" → [1, 0, 0]\n",
    "* \"Banana\" → [0, 1, 0]\n",
    "* \"Cherry\" → [0, 0, 1]\n",
    "\n",
    "NOTE: the direction of PyG graph is reflected by edge_index!"
   ],
   "metadata": {
    "id": "e1j-6AmYVv3o"
   }
  },
  {
   "cell_type": "code",
   "source": [
    "import torch\n",
    "from torch_geometric.data import Data\n",
    "\n",
    "\n",
    "def one_hot_embedding(people):\n",
    "  # TODO: Implement one-hot encoding for the each node.\n",
    "  one_hot_labels = []\n",
    "  for i in range(len(people)):\n",
    "      one_hot = [0] * len(people)\n",
    "      one_hot[i] = 1\n",
    "      one_hot_labels.append(one_hot)\n",
    "\n",
    "  return one_hot_labels\n",
    "\n",
    "def construct_pyg_social_network(people, relationships):\n",
    "  # TODO: Implement the function that constructs a connected undirected graph using pyg\n",
    "  # NOTE: the direction of PyG graph is reflected by edge_index!\n",
    "  # (1, 2) is different with\n",
    "\n",
    "  citation_graph = Data()\n",
    "  edge_index = []\n",
    "  for relationship in relationships:\n",
    "      edge_index.append((people.index(relationship[0]), people.index(relationship[1])))\n",
    "      edge_index.append((people.index(relationship[1]), people.index(relationship[0])))\n",
    "  citation_graph.edge_index = torch.tensor(edge_index, dtype=torch.long).t().contiguous()\n",
    "\n",
    "  citation_graph.x = torch.tensor(one_hot_embedding(people), dtype=torch.float)\n",
    "  return citation_graph\n",
    "\n",
    "\n",
    "# Let us Construct a social network that contains 10 people using pyg now!\n",
    "people = [\"Bob\", \"Alice\", \"Charlie\", \"Diana\", \"Eve\", \"Frank\", \"Grace\", \"Hank\", \"Ivy\", \"Jack\"]\n",
    "relationships = [(\"Bob\", \"Alice\"), (\"Alice\", \"Charlie\"), (\"Charlie\", \"Diana\"),\n",
    "                 (\"Diana\", \"Eve\"), (\"Eve\", \"Frank\"), (\"Frank\", \"Grace\"),\n",
    "                 (\"Grace\", \"Hank\"), (\"Hank\", \"Ivy\"), (\"Hank\", \"Diana\"), (\"Ivy\", \"Jack\")]\n",
    "\n",
    "citation_graph = construct_pyg_social_network(people, relationships)\n",
    "print(f\"One-hot embedding is ready: {torch.sum(citation_graph.x).item()/len(people)}\")"
   ],
   "metadata": {
    "id": "ahliRMRdV5Qz",
    "ExecuteTime": {
     "end_time": "2025-01-24T00:47:05.491902Z",
     "start_time": "2025-01-24T00:47:05.485865Z"
    }
   },
   "outputs": [
    {
     "name": "stdout",
     "output_type": "stream",
     "text": [
      "One-hot embedding is ready: 1.0\n"
     ]
    }
   ],
   "execution_count": 39
  },
  {
   "cell_type": "markdown",
   "metadata": {
    "id": "E9bELRjibIRO"
   },
   "source": [
    "## Documentation\n",
    "\n"
   ]
  },
  {
   "metadata": {
    "ExecuteTime": {
     "end_time": "2025-01-24T00:47:10.461077Z",
     "start_time": "2025-01-24T00:47:10.457248Z"
    }
   },
   "cell_type": "code",
   "source": "print(citation_graph.edge_index.t())\n",
   "outputs": [
    {
     "name": "stdout",
     "output_type": "stream",
     "text": [
      "tensor([[0, 1],\n",
      "        [1, 0],\n",
      "        [1, 2],\n",
      "        [2, 1],\n",
      "        [2, 3],\n",
      "        [3, 2],\n",
      "        [3, 4],\n",
      "        [4, 3],\n",
      "        [4, 5],\n",
      "        [5, 4],\n",
      "        [5, 6],\n",
      "        [6, 5],\n",
      "        [6, 7],\n",
      "        [7, 6],\n",
      "        [7, 8],\n",
      "        [8, 7],\n",
      "        [7, 3],\n",
      "        [3, 7],\n",
      "        [8, 9],\n",
      "        [9, 8]])\n"
     ]
    }
   ],
   "execution_count": 40
  },
  {
   "cell_type": "markdown",
   "metadata": {
    "id": "OmqyWVNObNcK"
   },
   "source": [
    "You can explore more PyG functions through its [documentation](https://pytorch-geometric.readthedocs.io/en/latest/)."
   ]
  },
  {
   "cell_type": "markdown",
   "source": [
    "## Submission ##"
   ],
   "metadata": {
    "id": "g4Vq_cv5_RTo"
   }
  },
  {
   "cell_type": "markdown",
   "source": [
    "When you submit your assignment, you will have to download this file as an `.ipynb` file."
   ],
   "metadata": {
    "id": "WuhfGD77_UHM"
   }
  }
 ],
 "metadata": {
  "colab": {
   "machine_shape": "hm",
   "provenance": [],
   "collapsed_sections": [
    "Nwwq0nSdmsOL",
    "MCIeGAfLfAMK",
    "x0pLs0-Ka9j8",
    "0AdoaZPgbRis",
    "9u1Utjn4bc7k",
    "_Q6YTP2FDbOS",
    "n7gMjMCT677n",
    "g3uPffzbyqn9",
    "lIzbIoc-y8J4",
    "nLLsT0ROzffp"
   ]
  },
  "kernelspec": {
   "display_name": "Python 3",
   "language": "python",
   "name": "python3"
  },
  "language_info": {
   "codemirror_mode": {
    "name": "ipython",
    "version": 3
   },
   "file_extension": ".py",
   "mimetype": "text/x-python",
   "name": "python",
   "nbconvert_exporter": "python",
   "pygments_lexer": "ipython3",
   "version": "3.7.3"
  }
 },
 "nbformat": 4,
 "nbformat_minor": 0
}
